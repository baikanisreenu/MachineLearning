{
  "cells": [
    {
      "metadata": {},
      "cell_type": "markdown",
      "source": "# Introduction to Machine Learning\n\nThis lab introduces some basic concepts of machine learning with Python. In this lab you will use the K-Nearest Neighbor (KNN) algorithm to classify the species of iris flowers, given measurements of flower characteristics. By completing this lab you will have an overview of an end-to-end machine learning modeling process.  \n\nBy the completion of this lab, you will:\n1. Follow and understand a complete end-to-end machine learning process including data exploration, data preparation, modeling, and model evaluation. \n2. Develop a basic understanding of the principles of machine learning and associated terminology. \n3. Understand the basic process for evaluating machine learning models. "
    },
    {
      "metadata": {},
      "cell_type": "markdown",
      "source": "## Overview of KNN classification\n\nBefore discussing a specific algorithm, it helps to know a bit of machine learning terminology. In supervised machine learning a set of ***cases*** are used to ***train***, ***test*** and ***evaluate*** the model. Each case is comprised of the values of one or more ***features*** and a ***label*** value. The features are variables used by the model to ***predict** the value of the label. Minimizing the ***errors*** between the true value of the label and the prediction supervises the training of this model. Once the model is trained and tested, it can be evaluated based on the accuracy in predicting the label of a new set of cases. \n\nIn this lab you will use randomly selected cases to first train and then evaluate a k-nearest-neighbor (KNN) machine learning model. The goal is to predict the type or class of the label, which makes the machine learning model a ***classification*** model. \n\nThe k-nearest-neighbor algorithm is conceptually simple. In fact, there is no formal training step. Given a known set of cases, a new case is classified by majority vote of the K (where $k = 1, 2, 3$, etc.) points nearest to the values of the new case; that is, the nearest neighbors of the new case. \n\nThe schematic figure below illustrates the basic concepts of a KNN classifier. In this case there are two features, the values of one shown on the horizontal axis and the values of the other shown on the vertical axis. The cases are shown on the diagram as one of two classes, red triangles and blue circles. To summarize, each case has a value for the two features, and a class. The goal of the KNN algorithm is to classify cases with unknown labels. \n\nContinuing with the example, on the left side of the diagram the $K = 1$ case is illustrated. The nearest neighbor is a red triangle. Therefore, this KNN algorithm will classify the unknown case, '?', as a red triangle. On the right side of the diagram, the $K = 3$ case is illustrated. There are three near neighbors within the circle. The majority of nearest neighbors for $K = 3$ are the blue circles, so the algorithm classifies the unknown case, '?', as a blue circle. Notice that class predicted for the unknown case changes as K changes. This behavior is inherent in the KNN method.  \n\n![](img/KNN.jpg)\n<center> **KNN for k = 1 and k = 3**</center>\n\nThere are some additional considerations in creating a robust KNN algorithm. These will be addressed later in this course. "
    },
    {
      "metadata": {},
      "cell_type": "markdown",
      "source": "## Examine the data set\n\nIn this lab you will work with the Iris data set. This data set is famous in the history of statistics. The first publication using these data in statistics by the pioneering statistician Ronald A Fisher was in 1936. Fisher proposed an algorithm to classify the species of iris flowers from physical measurements of their characteristics. The data set has been used as a teaching example ever since. \n\nNow, you will load and examine these data which are in the statsmodels.api package. Execute the code in the cell below and examine the first few rows of the data frame. "
    },
    {
      "metadata": {
        "trusted": true
      },
      "cell_type": "code",
      "source": "import pandas as pd\n#from statsmodels.api import datasets\nfrom sklearn import datasets ## Get dataset from sklearn\n\n## Import the dataset from sklearn.datasets\niris = datasets.load_iris()\n\n## Create a data frame from the dictionary\nspecies = [iris.target_names[x] for x in iris.target]\niris['Species'] = species\n",
      "execution_count": 2,
      "outputs": []
    },
    {
      "metadata": {},
      "cell_type": "markdown",
      "source": "There are four features, containing the dimensions of parts of the iris flower structures. The label column is the Species of the flower. The goal is to create and test a KNN algorithm to correctly classify the species. \n\nNext, you will execute the code in the cell below to show the data types of each column. "
    },
    {
      "metadata": {
        "trusted": true
      },
      "cell_type": "code",
      "source": "iris.dtypes",
      "execution_count": 3,
      "outputs": [
        {
          "output_type": "error",
          "ename": "AttributeError",
          "evalue": "dtypes",
          "traceback": [
            "\u001b[0;31m---------------------------------------------------------------------------\u001b[0m",
            "\u001b[0;31mKeyError\u001b[0m                                  Traceback (most recent call last)",
            "\u001b[0;32m~/anaconda3_420/lib/python3.5/site-packages/sklearn/utils/__init__.py\u001b[0m in \u001b[0;36m__getattr__\u001b[0;34m(self, key)\u001b[0m\n\u001b[1;32m     60\u001b[0m         \u001b[0;32mtry\u001b[0m\u001b[0;34m:\u001b[0m\u001b[0;34m\u001b[0m\u001b[0m\n\u001b[0;32m---> 61\u001b[0;31m             \u001b[0;32mreturn\u001b[0m \u001b[0mself\u001b[0m\u001b[0;34m[\u001b[0m\u001b[0mkey\u001b[0m\u001b[0;34m]\u001b[0m\u001b[0;34m\u001b[0m\u001b[0m\n\u001b[0m\u001b[1;32m     62\u001b[0m         \u001b[0;32mexcept\u001b[0m \u001b[0mKeyError\u001b[0m\u001b[0;34m:\u001b[0m\u001b[0;34m\u001b[0m\u001b[0m\n",
            "\u001b[0;31mKeyError\u001b[0m: 'dtypes'",
            "\nDuring handling of the above exception, another exception occurred:\n",
            "\u001b[0;31mAttributeError\u001b[0m                            Traceback (most recent call last)",
            "\u001b[0;32m<ipython-input-3-b8079666e339>\u001b[0m in \u001b[0;36m<module>\u001b[0;34m()\u001b[0m\n\u001b[0;32m----> 1\u001b[0;31m \u001b[0miris\u001b[0m\u001b[0;34m.\u001b[0m\u001b[0mdtypes\u001b[0m\u001b[0;34m\u001b[0m\u001b[0m\n\u001b[0m",
            "\u001b[0;32m~/anaconda3_420/lib/python3.5/site-packages/sklearn/utils/__init__.py\u001b[0m in \u001b[0;36m__getattr__\u001b[0;34m(self, key)\u001b[0m\n\u001b[1;32m     61\u001b[0m             \u001b[0;32mreturn\u001b[0m \u001b[0mself\u001b[0m\u001b[0;34m[\u001b[0m\u001b[0mkey\u001b[0m\u001b[0;34m]\u001b[0m\u001b[0;34m\u001b[0m\u001b[0m\n\u001b[1;32m     62\u001b[0m         \u001b[0;32mexcept\u001b[0m \u001b[0mKeyError\u001b[0m\u001b[0;34m:\u001b[0m\u001b[0;34m\u001b[0m\u001b[0m\n\u001b[0;32m---> 63\u001b[0;31m             \u001b[0;32mraise\u001b[0m \u001b[0mAttributeError\u001b[0m\u001b[0;34m(\u001b[0m\u001b[0mkey\u001b[0m\u001b[0;34m)\u001b[0m\u001b[0;34m\u001b[0m\u001b[0m\n\u001b[0m\u001b[1;32m     64\u001b[0m \u001b[0;34m\u001b[0m\u001b[0m\n\u001b[1;32m     65\u001b[0m     \u001b[0;32mdef\u001b[0m \u001b[0m__setstate__\u001b[0m\u001b[0;34m(\u001b[0m\u001b[0mself\u001b[0m\u001b[0;34m,\u001b[0m \u001b[0mstate\u001b[0m\u001b[0;34m)\u001b[0m\u001b[0;34m:\u001b[0m\u001b[0;34m\u001b[0m\u001b[0m\n",
            "\u001b[0;31mAttributeError\u001b[0m: dtypes"
          ]
        }
      ]
    },
    {
      "metadata": {},
      "cell_type": "markdown",
      "source": "The features are all numeric, and the label is a categorical string variable.\n\nNext, you will determine the number of unique categories, and number of cases for each category, for the label variable, Species. Execute the code in the cell below and examine the results. "
    },
    {
      "metadata": {
        "trusted": true
      },
      "cell_type": "code",
      "source": "iris['count'] = 1\niris[['Species', 'count']].groupby('Species').count()",
      "execution_count": 4,
      "outputs": [
        {
          "output_type": "error",
          "ename": "TypeError",
          "evalue": "unhashable type: 'list'",
          "traceback": [
            "\u001b[0;31m---------------------------------------------------------------------------\u001b[0m",
            "\u001b[0;31mTypeError\u001b[0m                                 Traceback (most recent call last)",
            "\u001b[0;32m<ipython-input-4-b22ce5fcecdd>\u001b[0m in \u001b[0;36m<module>\u001b[0;34m()\u001b[0m\n\u001b[1;32m      1\u001b[0m \u001b[0miris\u001b[0m\u001b[0;34m[\u001b[0m\u001b[0;34m'count'\u001b[0m\u001b[0;34m]\u001b[0m \u001b[0;34m=\u001b[0m \u001b[0;36m1\u001b[0m\u001b[0;34m\u001b[0m\u001b[0m\n\u001b[0;32m----> 2\u001b[0;31m \u001b[0miris\u001b[0m\u001b[0;34m[\u001b[0m\u001b[0;34m[\u001b[0m\u001b[0;34m'Species'\u001b[0m\u001b[0;34m,\u001b[0m \u001b[0;34m'count'\u001b[0m\u001b[0;34m]\u001b[0m\u001b[0;34m]\u001b[0m\u001b[0;34m.\u001b[0m\u001b[0mgroupby\u001b[0m\u001b[0;34m(\u001b[0m\u001b[0;34m'Species'\u001b[0m\u001b[0;34m)\u001b[0m\u001b[0;34m.\u001b[0m\u001b[0mcount\u001b[0m\u001b[0;34m(\u001b[0m\u001b[0;34m)\u001b[0m\u001b[0;34m\u001b[0m\u001b[0m\n\u001b[0m",
            "\u001b[0;31mTypeError\u001b[0m: unhashable type: 'list'"
          ]
        }
      ]
    },
    {
      "metadata": {},
      "cell_type": "markdown",
      "source": "You can see there are three species of iris, each with 50 cases. \n\nNext, you will create some plots to see how the classes might, or might not, be well separated by the value of the features. In an ideal case, the label classes will be perfectly separated by one or more of the feature pairs. In the real-world this ideal situation will rarely, if ever, be the case.\n \nThere are six possible pair-wise scatter plots of these four features. For now, we will just create scatter plots of two variable pairs. Execute the code in the cell below and examine the resulting plots.\n***\n**Note:** Data visualization and the Seaborn package are covered in another lesson.\n***"
    },
    {
      "metadata": {
        "scrolled": false,
        "trusted": false
      },
      "cell_type": "code",
      "source": "%matplotlib inline\ndef plot_iris(iris, col1, col2):\n    import seaborn as sns\n    import matplotlib.pyplot as plt\n    sns.lmplot(x = col1, y = col2, \n               data = iris, \n               hue = \"Species\", \n               fit_reg = False)\n    plt.xlabel(col1)\n    plt.ylabel(col2)\n    plt.title('Iris species shown by color')\n    plt.show()\nplot_iris(iris, 'Petal_Width', 'Sepal_Length')\nplot_iris(iris, 'Sepal_Width', 'Sepal_Length')",
      "execution_count": null,
      "outputs": []
    },
    {
      "metadata": {},
      "cell_type": "markdown",
      "source": "Examine these results noticing the separation, or overlap, of the label values. \n\nThen, answer **Question 1** on the course page. "
    },
    {
      "metadata": {},
      "cell_type": "markdown",
      "source": "## Prepare the data set\n\nData preparation is an important step before training any machine learning model. These data require only two preparation steps:\n- Scale the numeric values of the features. It is important that numeric features used to train machine learning models have a similar range of values. Otherwise, features which happen to have large numeric values may dominate model training, even if other features with smaller numeric values are more informative. In this case Zscore normalization is used. This normalization process scales each feature so that the mean is 0 and the variance is 1.0. \n- Split the dataset into randomly sampled training and evaluation data sets. The random selection of cases seeks to limit the leakage of information between the training and evaluation cases.\n\nThe code in the cell below normalizes the features by these steps:\n- The scale function from scikit-learn.preprocessing is used to normalize the features.\n- Column names are assigned to the resulting data frame. \n- A statitical summary of the data frame is then printed. \n\n***\n**Note:** Data preparation with scikit-learn is covered in another lesson. \n***\n\nExecute this code and examine the results. "
    },
    {
      "metadata": {
        "trusted": false
      },
      "cell_type": "code",
      "source": "from sklearn.preprocessing import scale\nimport pandas as pd\nnum_cols = ['Sepal_Length', 'Sepal_Width', 'Petal_Length', 'Petal_Width']\niris_scaled = scale(iris[num_cols])\niris_scaled = pd.DataFrame(iris_scaled, columns = num_cols)\nprint(iris_scaled.describe().round(3))",
      "execution_count": null,
      "outputs": []
    },
    {
      "metadata": {},
      "cell_type": "markdown",
      "source": "Examine these results. The mean of each column is zero and the standard deviation is approximately 1.0.\n\nThe methods in the scikit-learn package requires numeric numpy arrays as arguments. Therefore, the strings indicting species must be re-coded as numbers. The code in the cell below does this using a dictionary lookup. Execute this code and examine the head of the data frame. "
    },
    {
      "metadata": {
        "trusted": false
      },
      "cell_type": "code",
      "source": "levels = {'setosa':0, 'versicolor':1, 'virginica':2}\niris_scaled['Species'] = [levels[x] for x in iris['Species']]\niris_scaled.head()",
      "execution_count": null,
      "outputs": []
    },
    {
      "metadata": {},
      "cell_type": "markdown",
      "source": "Now, you will split the dataset into a test and evaluation sub-sets. The code in the cell below randomly splits the dataset into training and testing subsets. The features and labels are then separated into numpy arrays. The dimension of each array is printed as a check. Execute this code to create these subsets. \n\n***\n**Note:** Splitting data sets for machine learning with scikit-learn is discussed in another lesson.\n***"
    },
    {
      "metadata": {
        "trusted": false
      },
      "cell_type": "code",
      "source": "## Split the data into a training and test set by Bernoulli sampling\nfrom sklearn.model_selection import train_test_split\nimport numpy as np\nnp.random.seed(3456)\niris_split = train_test_split(np.asmatrix(iris_scaled), test_size = 75)\niris_train_features = iris_split[0][:, :4]\niris_train_labels = np.ravel(iris_split[0][:, 4])\niris_test_features = iris_split[1][:, :4]\niris_test_labels = np.ravel(iris_split[1][:, 4])\nprint(iris_train_features.shape)\nprint(iris_train_labels.shape)\nprint(iris_test_features.shape)\nprint(iris_test_labels.shape)",
      "execution_count": null,
      "outputs": []
    },
    {
      "metadata": {},
      "cell_type": "markdown",
      "source": "## Train and evaluate the KNN model\n\nWith some understanding of the relationships between the features and the label and preparation of the data completed you will now train and evaluate a $K = 3$ model. The code in the cell below does the following:\n- The KNN model is defined as having $K = 3$.\n- The model is trained using the fit method with the feature and label numpy arrays as arguments.\n- Displays a summary of the model. \n\nExecute this code and examine the summary of these results.\n\n\n***\n**Note:** Constructing machine learning models with scikit-learn is covered in another lesson.\n***"
    },
    {
      "metadata": {
        "trusted": false
      },
      "cell_type": "code",
      "source": "## Define and train the KNN model\nfrom sklearn.neighbors import KNeighborsClassifier\nKNN_mod = KNeighborsClassifier(n_neighbors = 3)\nKNN_mod.fit(iris_train_features, iris_train_labels)",
      "execution_count": null,
      "outputs": []
    },
    {
      "metadata": {},
      "cell_type": "markdown",
      "source": "Next, you will evaluate this model using the accuracy statistic and a set of plots. The following steps create model predictions and compute accuracy:\n- The predict method is used to compute KNN predictions from the model using the test features as an argument. \n- The predictions are scored as correct or not using a list comprehension. \n- Accuracy is computed as the percentage of the test cases correctly classified. \n\nExecute this code, examine the results, and answer **Question 2** on the course page."
    },
    {
      "metadata": {
        "trusted": false
      },
      "cell_type": "code",
      "source": "iris_test = pd.DataFrame(iris_test_features, columns = num_cols)\niris_test['predicted'] = KNN_mod.predict(iris_test_features)\niris_test['correct'] = [1 if x == z else 0 for x, z in zip(iris_test['predicted'], iris_test_labels)]\naccuracy = 100.0 * float(sum(iris_test['correct'])) / float(iris_test.shape[0])\nprint(accuracy)",
      "execution_count": null,
      "outputs": []
    },
    {
      "metadata": {},
      "cell_type": "markdown",
      "source": "The accuracy is pretty good.\n\nNow, execute the code in the cell below and examine plots of the classifications of the iris species. "
    },
    {
      "metadata": {
        "trusted": false
      },
      "cell_type": "code",
      "source": "levels = {0:'setosa', 1:'versicolor', 2:'virginica'}\niris_test['Species'] = [levels[x] for x in iris_test['predicted']]\nmarkers = {1:'^', 0:'o'}\ncolors = {'setosa':'blue', 'versicolor':'green', 'virginica':'red'}\ndef plot_shapes(df, col1,col2,  markers, colors):\n    import matplotlib.pyplot as plt\n    import seaborn as sns\n    ax = plt.figure(figsize=(6, 6)).gca() # define plot axis\n    for m in markers: # iterate over marker dictioary keys\n        for c in colors: # iterate over color dictionary keys\n            df_temp = df[(df['correct'] == m)  & (df['Species'] == c)]\n            sns.regplot(x = col1, y = col2, \n                        data = df_temp,  \n                        fit_reg = False, \n                        scatter_kws={'color': colors[c]},\n                        marker = markers[m],\n                        ax = ax)\n    plt.xlabel(col1)\n    plt.ylabel(col2)\n    plt.title('Iris species by color')\n    return 'Done'\nplot_shapes(iris_test, 'Petal_Width', 'Sepal_Length', markers, colors)\nplot_shapes(iris_test, 'Sepal_Width', 'Sepal_Length', markers, colors)",
      "execution_count": null,
      "outputs": []
    },
    {
      "metadata": {
        "collapsed": true
      },
      "cell_type": "markdown",
      "source": "In the plots above color is used to show the predicted class. Correctly classified cases are shown by triangles and incorrectly classified cases are shown by circles. \n\nExamine the plot and answer **Question 3** on the course page."
    },
    {
      "metadata": {},
      "cell_type": "markdown",
      "source": "## Summary\n\nIn this lab you have created and evaluated a KNN machine learning classification model. Specifically you have:\n1. Loaded and explored the data using visualization to determine if the features separate the classes.\n2. Prepared the data by normalizing the numeric features and randomly sampling into training and testing subsets. \n3. Constructing and evaluating the machine learning model. Evaluation was performed by statistically, with the accuracy metric, and with visualization. "
    },
    {
      "metadata": {
        "trusted": false
      },
      "cell_type": "code",
      "source": "",
      "execution_count": null,
      "outputs": []
    }
  ],
  "metadata": {
    "anaconda-cloud": {},
    "kernelspec": {
      "name": "python3",
      "display_name": "Python 3",
      "language": "python"
    },
    "language_info": {
      "mimetype": "text/x-python",
      "nbconvert_exporter": "python",
      "name": "python",
      "file_extension": ".py",
      "version": "3.5.4",
      "pygments_lexer": "ipython3",
      "codemirror_mode": {
        "version": 3,
        "name": "ipython"
      }
    }
  },
  "nbformat": 4,
  "nbformat_minor": 1
}